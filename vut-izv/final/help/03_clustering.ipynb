{
    "cells": [
        {
            "cell_type": "markdown",
            "metadata": {},
            "source": [
                "# Maloplo\u0161n\u00e1 zvl\u00e1\u0161t\u011b chr\u00e1n\u011bn\u00e1 \u00fazem\u00ed\n",
                "Uk\u00e1zka clusteringu na re\u00e1ln\u00e9m p\u0159\u00edkladu - Hranice vyhl\u00e1\u0161en\u00fdch maloplo\u0161n\u00fdch zvl\u00e1\u0161t\u011b chr\u00e1n\u011bn\u00fdch \u00fazem\u00ed (n\u00e1rodn\u00ed p\u0159\u00edrodn\u00ed rezervace, n\u00e1rodn\u00ed p\u0159\u00edrodn\u00ed pam\u00e1tky, p\u0159\u00edrodn\u00ed rezervace, p\u0159\u00edrodn\u00ed pam\u00e1tky); vrstva obsahuje slo\u017een\u00e9 prvky (Multipart Features); \u00a9 AOPK \u010cR. \n",
                "\n",
                "Celkem 2645 samostatn\u00fdch \u00fazem\u00ed slo\u017e\u00edme do r\u016fzn\u00fdch cluster\u016f, kter\u00e9 potom budeme zobrazovat.\n",
                "\n",
                "## Na\u010dten\u00ed dat"
            ]
        },
        {
            "cell_type": "code",
            "execution_count": null,
            "metadata": {},
            "outputs": [],
            "source": [
                "###\n",
                "# stahnete si soubor z teto URL\n",
                "#! [ -f maloplosna_uzemi.zip ] || wget https://opendata.arcgis.com/datasets/91b1bb5621ae40a58dfddcc4550e147a_2.zip -O maloplosna_uzemi.zip"
            ]
        },
        {
            "cell_type": "code",
            "execution_count": null,
            "metadata": {},
            "outputs": [],
            "source": [
                "###\n",
                "import geopandas\n",
                "import contextily as ctx\n",
                "import numpy as np\n",
                "import sklearn.cluster \n",
                "import sklearn.mixture \n",
                "import matplotlib.pyplot as plt\n",
                "import pandas as pd"
            ]
        },
        {
            "cell_type": "code",
            "execution_count": null,
            "metadata": {},
            "outputs": [],
            "source": [
                "###\n",
                "gdf = geopandas.read_file(\"zip://maloplosna_uzemi.zip\")\n",
                "gdf"
            ]
        },
        {
            "cell_type": "markdown",
            "metadata": {},
            "source": [
                "## Vizualizace dat\n",
                "Zkus\u00edme data vizualizovat"
            ]
        },
        {
            "cell_type": "code",
            "execution_count": null,
            "metadata": {},
            "outputs": [],
            "source": [
                "# zobrazen\u00ed GDF na map\u011b\n",
                "gdf.plot(figsize=(12, 10))\n",
                "plt.axis(\"off\")"
            ]
        },
        {
            "cell_type": "markdown",
            "metadata": {},
            "source": [
                "Vid\u00edme, \u017ee velk\u00e9 mno\u017estv\u00ed rezervac\u00ed z\u016fstalo skryto, proto\u017ee jsou velmi mal\u00e9. Proto je transformujeme na body\n",
                "## Transformace dat"
            ]
        },
        {
            "cell_type": "code",
            "execution_count": null,
            "metadata": {},
            "outputs": [],
            "source": [
                "# Vytvo\u0159\u00edme nov\u00fd data frame gdf_c tak, ze\n",
                "# - bude kopie gdf\n",
                "# - bude obsahovat sloupec area (pozor, nutne pouzit EPSG:5514 - S-JTSK)\n",
                "# - polyhony budou nahrazeny body (centroid)\n",
                "# - cely dataframe bude zpet ve EPSG:3857 (WebMercator)\n",
                "\n",
                "gdf_c = gdf.to_crs(\"EPSG:5514\") # spravny system pro praci s velikostmi\n",
                "gdf_c[\"area\"] = gdf_c.area\n",
                "gdf_c = gdf_c.set_geometry(gdf_c.centroid).to_crs(epsg=3857)\n",
                "gdf_c"
            ]
        },
        {
            "cell_type": "code",
            "execution_count": null,
            "metadata": {},
            "outputs": [],
            "source": [
                "# A tato data vykresl\u00edme na map\u011b (p\u0159idat alpha)\n",
                "ax = gdf_c.plot(figsize=(20, 20), alpha=0.3, color=\"tab:red\")"
            ]
        },
        {
            "cell_type": "markdown",
            "metadata": {},
            "source": [
                "## Vytv\u00e1\u0159en\u00ed cluster\u016f\n",
                "V map\u011b vid\u00edme oblasti, kde je velk\u00e9 mno\u017estv\u00ed bod\u016f p\u0159es sebe. Zkus\u00edme tedy vytvo\u0159it rozumn\u00e9 mno\u017estv\u00ed cluster\u016f (shluk\u016f), kter\u00e9 budou pokr\u00fdvat v\u00edce bod\u016f."
            ]
        },
        {
            "cell_type": "code",
            "execution_count": null,
            "metadata": {},
            "outputs": [],
            "source": [
                "# Prvn\u00edm krokem je vytvo\u0159en\u00ed matice X o rozm\u011brech (2645, 2) obsahuj\u00edc\u00ed sou\u0159adnice (x,y)\n",
                "coords = np.dstack([gdf_c.geometry.x, gdf_c.geometry.y]).reshape(-1, 2)\n",
                "coords  ###"
            ]
        },
        {
            "cell_type": "markdown",
            "metadata": {},
            "source": [
                "Nyn\u00ed pou\u017e\u00edjeme u\u010den\u00ed bez u\u010ditele - shlukovac\u00ed metodu. Vzhledem k velk\u00e9mu mno\u017estv\u00ed bod\u016f pou\u017eijeme metodu __k-means__ implementovanou v t\u0159\u00edd\u011b `sklearn.cluster.MiniBatchKMeans`. Vhodn\u00fd po\u010det cluster\u016f ov\u011b\u0159\u00edme experiment\u00e1ln\u011b. V\u00fdsledn\u00e9 p\u0159i\u0159azen\u00ed m\u00e1me v atributu `labels_` (viz dokumentace)."
            ]
        },
        {
            "cell_type": "code",
            "execution_count": null,
            "metadata": {},
            "outputs": [],
            "source": [
                "db = sklearn.cluster.MiniBatchKMeans(n_clusters=280).fit(coords)\n",
                "db.labels_"
            ]
        },
        {
            "cell_type": "code",
            "execution_count": null,
            "metadata": {},
            "outputs": [],
            "source": [
                "# Vytvo\u0159\u00edme gdf4 obsahuj\u00edc\u00ed kopii gdf_c a p\u0159idan\u00fd sloupec cluster odpov\u00eddaj\u00edc\u00ed labelu\n",
                "gdf4 = gdf_c.copy()\n",
                "gdf4[\"cluster\"] = db.labels_\n",
                "gdf4"
            ]
        },
        {
            "cell_type": "code",
            "execution_count": null,
            "metadata": {},
            "outputs": [],
            "source": [
                "# spojeni dohromad0 (funkce dissolve - geograficky ekvivalent groupby)\n",
                "# KOD agregujeme jako pocet (a p\u0159ejmenujeme na cnt) a plochu sumujeme\n",
                "gdf4 = gdf4.dissolve(by=\"cluster\", aggfunc={\"KOD\": \"count\", \"area\": \"sum\"}).rename(columns=dict(KOD=\"cnt\"))\n",
                "gdf4"
            ]
        },
        {
            "cell_type": "markdown",
            "metadata": {},
            "source": [
                "V\u0161imn\u011bte si, \u017ee se n\u00e1m pro geometrii vytvo\u0159ily bod\u016f geometrie typu `MULTIPOINT`."
            ]
        },
        {
            "cell_type": "code",
            "execution_count": null,
            "metadata": {},
            "outputs": [],
            "source": [
                "plt.figure(figsize=(20, 20)) ###\n",
                "ax = plt.gca() ###\n",
                "# zobraz\u00edme oblasti pomoc\u00ed convex_hull (pokryt\u00ed v\u0161ech bod\u016f)\n",
                "gdf4.convex_hull.plot(ax=ax, alpha=0.4)\n",
                "# a tak\u00e9 v\u0161echny body, co jsme m\u011bli k dispozici\n",
                "gdf_c.plot(ax=ax, color=\"tab:red\", alpha=0.5)\n",
                "\n",
                "ctx.add_basemap(ax, crs=gdf_c.crs.to_string(), source=ctx.providers.Stamen.Terrain, alpha=0.6) ###"
            ]
        },
        {
            "cell_type": "markdown",
            "metadata": {},
            "source": [
                "## Reprezentativn\u00ed body\n",
                "Nyn\u00ed mus\u00edme ur\u010dit reprezentativn\u00ed body. Mohli bychom pou\u017e\u00edt \u010dist\u011b `centroid`. Ov\u0161em shlukovac\u00ed metoda n\u00e1m rovnou ur\u010duje st\u0159edy v prom\u011bnn\u00e9 `cluster_centers_`"
            ]
        },
        {
            "cell_type": "code",
            "execution_count": null,
            "metadata": {},
            "outputs": [],
            "source": [
                "db.cluster_centers_ ###"
            ]
        },
        {
            "cell_type": "code",
            "execution_count": null,
            "metadata": {},
            "outputs": [],
            "source": [
                "###\n",
                "gdf_coords = geopandas.GeoDataFrame(geometry=geopandas.points_from_xy(db.cluster_centers_[:, 0], db.cluster_centers_[:, 1]))\n",
                "gdf_coords"
            ]
        },
        {
            "cell_type": "code",
            "execution_count": null,
            "metadata": {},
            "outputs": [],
            "source": [
                "gdf5 = gdf4.merge(gdf_coords, left_on=\"cluster\", right_index=True).set_geometry(\"geometry_y\")\n",
                "gdf5"
            ]
        },
        {
            "cell_type": "code",
            "execution_count": null,
            "metadata": {},
            "outputs": [],
            "source": [
                "# Zobraz\u00edme graf tak, \u017ee velikost bodu bude odpov\u00eddat \n",
                "plt.figure(figsize=(20, 8)) ###\n",
                "ax = plt.gca()  ###\n",
                "gdf5.plot(ax=ax, markersize=gdf5[\"area\"] / 1e5, column=\"cnt\", legend=True)\n",
                "ctx.add_basemap(ax, crs=\"epsg:3857\", source=ctx.providers.OpenTopoMap, zoom=8, alpha=0.6) ###"
            ]
        },
        {
            "cell_type": "code",
            "execution_count": null,
            "metadata": {},
            "outputs": [],
            "source": [
                "###\n",
                "# pro srovn\u00e1n\u00ed p\u016fbodn\u00ed oblasti\n",
                "gdf.to_crs(epsg=3857).plot(figsize=(20, 8))"
            ]
        },
        {
            "cell_type": "code",
            "execution_count": null,
            "metadata": {},
            "outputs": [],
            "source": []
        }
    ],
    "metadata": {
        "kernelspec": {
            "display_name": "Python 3",
            "language": "python",
            "name": "python3"
        },
        "language_info": {
            "codemirror_mode": {
                "name": "ipython",
                "version": 3
            },
            "file_extension": ".py",
            "mimetype": "text/x-python",
            "name": "python",
            "nbconvert_exporter": "python",
            "pygments_lexer": "ipython3",
            "version": "3.8.5"
        }
    },
    "nbformat": 4,
    "nbformat_minor": 4
}