{
    "metadata": {
        "language_info": {
            "codemirror_mode": {
                "name": "ipython",
                "version": 3
            },
            "file_extension": ".py",
            "mimetype": "text/x-python",
            "name": "python",
            "nbconvert_exporter": "python",
            "pygments_lexer": "ipython3",
            "version": "3.8.6-final"
        },
        "orig_nbformat": 2,
        "kernelspec": {
            "name": "python37564bitd4e7769e220b462f922257447f5a3ddd",
            "display_name": "Python 3.7.5 64-bit"
        }
    },
    "nbformat": 4,
    "nbformat_minor": 2,
    "cells": [
        {
            "source": [
                "# Klasifikace jednotliv\u00fdch kosatc\u016f\n",
                "Uk\u00e1zka u\u010den\u00ed s u\u010ditelem pro problematiku klasifikace s vyu\u017eit\u00edm Decision Trees a PCA."
            ],
            "cell_type": "markdown",
            "metadata": {}
        },
        {
            "cell_type": "code",
            "execution_count": null,
            "metadata": {},
            "outputs": [],
            "source": [
                "###\n",
                "from sklearn.tree import DecisionTreeClassifier, plot_tree\n",
                "from sklearn.model_selection import train_test_split\n",
                "import seaborn as sns\n",
                "import matplotlib.pyplot as plt\n",
                "import numpy as np"
            ]
        },
        {
            "source": [
                "## P\u0159\u00edprava dat\n",
                "Na\u010dteme dataset IRIS - velikost kosatc\u016f"
            ],
            "cell_type": "markdown",
            "metadata": {}
        },
        {
            "cell_type": "code",
            "execution_count": null,
            "metadata": {},
            "outputs": [],
            "source": [
                "df_iris = sns.load_dataset(\"iris\")\n",
                "df_iris"
            ]
        },
        {
            "source": [
                "Vytvo\u0159\u00edme sloupec `species_id`, kter\u00fd obsahuje k\u00f3d kategori\u00ed (accessor `cat.codes`)"
            ],
            "cell_type": "markdown",
            "metadata": {}
        },
        {
            "cell_type": "code",
            "execution_count": null,
            "metadata": {},
            "outputs": [],
            "source": [
                "df_iris[\"species\"] = df_iris[\"species\"].astype(\"category\")\n",
                "df_iris[\"species_id\"] = df_iris[\"species\"].cat.codes\n",
                "df_iris"
            ]
        },
        {
            "source": [
                "Vytvo\u0159\u00edme data (matice p\u0159\u00edznak\u016f `X` a vektor label\u016f `y`)"
            ],
            "cell_type": "markdown",
            "metadata": {}
        },
        {
            "cell_type": "code",
            "execution_count": null,
            "metadata": {},
            "outputs": [],
            "source": [
                "ks = [\"sepal_length\", \"sepal_width\", \"petal_length\", \"petal_width\"] ###\n",
                "X = df_iris[ks].values\n",
                "y = df_iris[\"species_id\"].values\n",
                "X, y"
            ]
        },
        {
            "source": [
                "Vytvo\u0159\u00edme podmno\u017einu pro tr\u00e9nov\u00e1n\u00ed a testov\u00e1n\u00ed (70:30)"
            ],
            "cell_type": "markdown",
            "metadata": {}
        },
        {
            "cell_type": "code",
            "execution_count": null,
            "metadata": {},
            "outputs": [],
            "source": [
                "X_train, X_test , y_train, y_test = train_test_split(X, y, test_size=0.30, random_state=0)\n",
                "X_test.shape, X_train.shape"
            ]
        },
        {
            "source": [
                "## Vytvo\u0159en\u00ed modelu DecisionTreeClassifier"
            ],
            "cell_type": "markdown",
            "metadata": {}
        },
        {
            "cell_type": "code",
            "execution_count": null,
            "metadata": {},
            "outputs": [],
            "source": [
                "# Vytvo\u0159\u00edme model a rovnou jej otestujeme\n",
                "model = DecisionTreeClassifier().fit(X_train, y_train)\n",
                "\n",
                "_  # model.score(X_test, y_test)\n",
                "_ = _  # (model.predict(X_test) == y_test).mean()"
            ]
        },
        {
            "cell_type": "code",
            "execution_count": null,
            "metadata": {},
            "outputs": [],
            "source": [
                "###\n",
                "# Vykresl\u00edme rozhodovac\u00ed strom nov\u00e9ho modelu\n",
                "plt.figure(figsize=(12, 10))\n",
                "_= plot_tree(model, feature_names=ks, filled=True, class_names=df_iris[\"species\"].cat.categories)"
            ]
        },
        {
            "cell_type": "code",
            "execution_count": null,
            "metadata": {},
            "outputs": [],
            "source": [
                "###\n",
                "# Pod\u00edv\u00e1me se na kompletn\u00ed distribuci a korelaci jednotliv\u00fdch p\u0159\u00edznak\u016f\n",
                "sns.pairplot(data=df_iris, vars=ks, hue=\"species\")"
            ]
        },
        {
            "source": [
                "## Omezen\u00fd prostor pro hled\u00e1n\u00ed\n",
                "Z d\u016fvodu zrychlen\u00ed a zjednodu\u0161en\u00ed zkus\u00edme omezit po\u010det p\u0159\u00edznak\u016f, se kter\u00fdmi se pracuje. V tomto p\u0159\u00edpad\u011b to nen\u00ed \u00fapln\u011b nutn\u00e9, ale pokud m\u00e1me stovky p\u0159\u00edznak\u016f, nemus\u00ed dan\u00fd algoritmus dob\u0159e konvergovat, mohou se vyskytovat korelace a podobn\u011b. \n",
                "\n",
                "Proto zkusme __omezit po\u010det p\u0159\u00edznak\u016f na 2__."
            ],
            "cell_type": "markdown",
            "metadata": {}
        },
        {
            "cell_type": "code",
            "execution_count": null,
            "metadata": {},
            "outputs": [],
            "source": [
                "###\n",
                "# Pro v\u0161echny kombinace dvojic zkus\u00edme navrhnout \n",
                "from itertools import combinations\n",
                "for ids in combinations(range(4), 2):\n",
                "    model = DecisionTreeClassifier().fit(X_train[:, ids], y_train)\n",
                "    print(\"score {} = {:.2%}\".format([ks[i] for i in ids], model.score(X_test[:, ids], y_test)))\n"
            ]
        },
        {
            "source": [
                "Nejlep\u0161\u00ed kombinace je pou\u017e\u00edt `petal_length` a `petal_width` (sloupce 2 a 3 z matice X). Zkusme se tedy pod\u00edvat detailn\u011b na fungov\u00e1n\u00ed."
            ],
            "cell_type": "markdown",
            "metadata": {}
        },
        {
            "cell_type": "code",
            "execution_count": null,
            "metadata": {},
            "outputs": [],
            "source": [
                "###\n",
                "plt.figure(figsize=(12, 10))\n",
                "# Vytvo\u0159en\u00ed vektor\u016f x a y (petal_lenght a petal_width)\n",
                "v_x = X[:, 2]\n",
                "v_y = X[:, 3]\n",
                "\n",
                "# Navr\u017een\u00ed klasifik\u00e1toru\n",
                "m = DecisionTreeClassifier().fit(X_train[:, [2, 3]], y_train)\n",
                "\n",
                "# Pro vykreslen\u00ed pozad\u00ed ud\u011bl\u00e1me pravidelnou m\u0159\u00ed\u017eku\n",
                "xx, yy = np.meshgrid(np.arange(v_x.min(), v_x.max(), 0.002), \n",
                "                     np.arange(v_y.min(), v_y.max(), 0.002)\n",
                "                     )\n",
                "# kterou transformujeme do matice o rozm\u011brech (-1, 2)\n",
                "xdata = np.dstack([xx.ravel(), yy.ravel()]).reshape(-1, 2)\n",
                "# Vypo\u010d\u00edt\u00e1me odezvu na\u0161eho modelu\n",
                "Z = m.predict(xdata)\n",
                "# a data vykresl\u00edme\n",
                "plt.contourf(Z.reshape(xx.shape), cmap=plt.cm.tab10, extent=(xx.min(), xx.max(), yy.min(), yy.max()), alpha=0.2)\n",
                "\n",
                "# vykresl\u00edme v\u0161echny body s barvou podle t\u0159\u00eddy\n",
                "plt.scatter(v_x, v_y, c=y / 3, cmap=plt.cm.tab10, s=10, clip_on=False)\n",
                "\n",
                "# nalezeni nespr\u00e1vnych odpovedi\n",
                "failed = (m.predict(X[:, [2, 3]]) != y)\n",
                "plt.scatter(v_x[failed], v_y[failed], ec=\"tab:red\", fc=(1, 1, 0, 0), marker=\"o\", s=30, lw=1)\n",
                "\n",
                "# form\u00e1tov\u00e1n\u00ed grafu\n",
                "plt.xlabel(ks[2])\n",
                "plt.ylabel(ks[3])\n",
                "plt.xlim(v_x.min(), v_x.max())\n",
                "plt.ylim(v_y.min(), v_y.max())\n",
                "\n",
                "plt.show()"
            ]
        },
        {
            "cell_type": "code",
            "execution_count": null,
            "metadata": {},
            "outputs": [],
            "source": [
                "plt.figure(figsize=(12, 10))\n",
                "plot_tree(m, feature_names=ks[2:4], class_names=df_iris[\"species\"].cat.categories, filled=True)\n",
                "plt.plot()"
            ]
        },
        {
            "source": [
                "Jak to ale automatizovat? Prohled\u00e1vat v\u0161echny kombinace m\u016f\u017ee b\u00fdt \u010dasov\u011b extr\u00e9m\u011b n\u00e1ro\u010dn\u00e9. Proto m\u016f\u017eeme pou\u017e\u00edt __PCA__, kter\u00e9 redukuje po\u010det p\u0159\u00edznak\u016f. Teoreticky se m\u016f\u017ee zlep\u0161it klasifika\u010dn\u00ed p\u0159esnost a tak\u00e9 "
            ],
            "cell_type": "markdown",
            "metadata": {}
        },
        {
            "cell_type": "code",
            "execution_count": null,
            "metadata": {},
            "outputs": [],
            "source": [
                "from sklearn.pipeline import make_pipeline ###\n",
                "from sklearn.decomposition import PCA ###\n",
                "model = make_pipeline(PCA(n_components=2), DecisionTreeClassifier()).fit(X_train, y_train)\n",
                "print(\"{:.2%}\".format(model.score(X_test, y_test)))"
            ]
        },
        {
            "source": [
                "Pod\u00edv\u00e1me se na to, jak vypadaj\u00ed jednotliv\u00e9 komponenty"
            ],
            "cell_type": "markdown",
            "metadata": {}
        },
        {
            "cell_type": "code",
            "execution_count": null,
            "metadata": {},
            "outputs": [],
            "source": [
                "###\n",
                "model[0].components_ ###\n",
                "import pandas as pd\n",
                "pd.DataFrame(model[0].components_, columns=ks, index=[\"pc1\", \"pc2\"])"
            ]
        },
        {
            "cell_type": "code",
            "execution_count": null,
            "metadata": {},
            "outputs": [],
            "source": [
                "###\n",
                "plt.figure(figsize=(12, 10))\n",
                "plot_tree(m, feature_names=[\"pc1\", \"pc2\"], class_names=df_iris[\"species\"].cat.categories, filled=True)\n",
                "plt.plot()"
            ]
        },
        {
            "source": [
                "Tady jsme dostali podobn\u00fd v\u00fdsledek, jako p\u0159i vlastn\u00edm v\u00fdb\u011bru feature vektor\u016f. V\u00fdhodou PCA je ale, \u017ee jsme v\u00fdsledek dostali najednou, nemuseli jsme zkoumat v\u00edce kombinac\u00ed."
            ],
            "cell_type": "markdown",
            "metadata": {}
        }
    ]
}