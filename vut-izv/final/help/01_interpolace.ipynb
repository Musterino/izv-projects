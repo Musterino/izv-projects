{
    "cells": [
        {
            "cell_type": "markdown",
            "metadata": {},
            "source": [
                "# Interpolace\n",
                "Vykreslen\u00ed v\u00fdsledk\u016f z genetick\u00e9ho algoritmu. Pro r\u016fzn\u00e9 b\u011bhy si ukl\u00e1d\u00e1me, v jak\u00e9 generaci a o kolik se zv\u00fd\u0161ila fitness hodnota. M\u00e1me celkem 20 b\u011bh\u016f s r\u016fzn\u00fdmi generacemi, kde do\u0161lo ke zm\u011bn\u011b.\n",
                "\n",
                "## Na\u010d\u00edt\u00e1n\u00ed dat\n",
                "Na\u010dteme data ze soubor\u016f v archivu [runs.zip](runs.zip). Ka\u017ed\u00fd soubor m\u00e1 n\u00e1sleduj\u00edc\u00ed form\u00e1t:\n",
                "```\n",
                "gen=0,fit=0.00\n",
                "gen=3,fit=0.04\n",
                "gen=7,fit=0.04\n",
                "gen=20,fit=0.09\n",
                "gen=21,fit=0.33\n",
                "gen=27,fit=0.49\n",
                "gen=35,fit=0.53\n",
                "gen=89,fit=0.68\n",
                "gen=90,fit=0.74\n",
                "```\n",
                "\n",
                "Pro dek\u00f3dov\u00e1n\u00ed pou\u017eijeme 2x zano\u0159enou funkci `map`, kter\u00e1 ve vy\u0161\u0161\u00ed \u00farovni rozd\u011bl\u00ed \u0159\u00e1dky podle \u010d\u00e1rek a v ni\u017e\u0161\u00ed podle '='. Tento soubor potom p\u0159evede rovnou na n\u00e1sleduj\u00edc\u00ed z\u00e1pis\n",
                "```\n",
                "[\n",
                "    {(\"gen\", \"0\"), (\"fit\", \"0.00\")},\n",
                "    {(\"gen\", \"3\"), (\"fit\", \"0.04\")},\n",
                "    {(\"gen\", \"7\"), (\"fit\", \"0.04\")},\n",
                "    {(\"gen\", \"20\"), (\"fit\", \"0.09\")},\n",
                "    {(\"gen\", \"21\"), (\"fit\", \"0.33\")},\n",
                "    {(\"gen\", \"27\"), (\"fit\", \"0.49\")},\n",
                "    {(\"gen\", \"35\"), (\"fit\", \"0.53\")},\n",
                "    {(\"gen\", \"89\"), (\"fit\", \"0.68\")},\n",
                "    {(\"gen\", \"90\"), (\"fit\", \"0.74\")}\n",
                "]\n",
                "```\n",
                "\n",
                "Potom se vytvo\u0159\u00ed `pd.DataFrame`, sloupce se hromadn\u011b konvertuj\u00ed a p\u0159id\u00e1 se informace o b\u011bhu. V\u0161echny tyto postupy byste m\u011bli zn\u00e1t z p\u0159edch\u00e1zej\u00edc\u00edch p\u0159edn\u00e1\u0161ek\n"
            ]
        },
        {
            "cell_type": "code",
            "execution_count": null,
            "metadata": {
                "tags": []
            },
            "outputs": [],
            "source": [
                "###\n",
                "from zipfile import ZipFile\n",
                "import pandas as pd\n",
                "import numpy as np\n",
                "import seaborn as sns\n",
                "import matplotlib.pyplot as plt\n",
                "\n",
                "# na\u010dten\u00ed dat (viz popis naho\u0159e)\n",
                "alld = []\n",
                "with ZipFile(\"runs.zip\") as zf:\n",
                "    for fn in zf.namelist():\n",
                "        with zf.open(fn) as f:\n",
                "            # dekodovani gen=X,fit=XX\n",
                "            df_loc = pd.DataFrame(list(map(\n",
                "                lambda x: dict(map(lambda y: tuple(y.split(\"=\")),\n",
                "                                   x.decode().strip().split(\",\"))),\n",
                "                f.readlines()\n",
                "            )))\n",
                "            df_loc[\"gen\"] = df_loc[\"gen\"].astype(\"i\")\n",
                "            df_loc[\"fit\"] = df_loc[\"fit\"].astype(\"f\")\n",
                "            df_loc[\"run\"] = fn\n",
                "            alld.append(df_loc)\n",
                "\n",
                "df = pd.concat(alld, ignore_index=True)\n",
                "df"
            ]
        },
        {
            "cell_type": "code",
            "execution_count": null,
            "metadata": {},
            "outputs": [],
            "source": [
                "###\n",
                "# Jak data vypadaj\u00ed?\n",
                "sns.lineplot(data=df, x=\"gen\", y=\"fit\", hue=\"run\", marker=\"o\", legend=False)"
            ]
        },
        {
            "cell_type": "markdown",
            "metadata": {},
            "source": [
                "## Konvergence\n",
                "Nyn\u00ed chceme ur\u010dit tzv. konvergenci - tj. jak se m\u011bn\u00ed fitness v pr\u016fb\u011bhu generac\u00ed. Nejl\u00e9pe by bylo zobrazit i _confidence interval_ pro ur\u010den\u00ed 95% rozsahu."
            ]
        },
        {
            "cell_type": "code",
            "execution_count": null,
            "metadata": {},
            "outputs": [],
            "source": [
                "# Zobrazit konvergen\u010dn\u00ed k\u0159ivku pro dataframe df\n",
                "sns.lineplot(data=df, x=\"gen\", y=\"fit\", legend=False)"
            ]
        },
        {
            "cell_type": "markdown",
            "metadata": {},
            "source": [
                "V grafu ale vznikly \u0161kared\u00e9 skoky. Ty jsou zp\u016fsoben\u00e9 t\u00edm, \u017ee po\u010det z\u00e1znam\u016f pro ka\u017edou generaci je rozd\u00edln\u00fd (m\u011bl by b\u00fdt 20, co\u017e je po\u010det skok\u016f)."
            ]
        },
        {
            "cell_type": "code",
            "execution_count": null,
            "metadata": {},
            "outputs": [],
            "source": [
                "###\n",
                "dfv = df.groupby(\"gen\").count().reset_index()\n",
                "plt.bar(dfv[\"gen\"] + 0.5, dfv[\"run\"])\n",
                "_= plt.gca().set(xticks=np.linspace(0, 100, num=5), xticklabels=np.linspace(0, 100, num=5), \n",
                "          ylabel=\"# runs\", xlabel=\"gen\")"
            ]
        },
        {
            "cell_type": "markdown",
            "metadata": {},
            "source": [
                "## Interpolace pro v\u0161echny generace\n",
                "Proto mus\u00edme vytvo\u0159it nov\u00fd DataFrame, kter\u00fd pro v\u0161echny generace m\u00e1 uvedenou fitness."
            ]
        },
        {
            "cell_type": "code",
            "execution_count": null,
            "metadata": {},
            "outputs": [],
            "source": [
                "from scipy.interpolate import interp1d ###\n",
                "# Vytvo\u0159\u00edme si nov\u00fd prostor X - kter\u00fd m\u016f\u017ee b\u00fdt nap\u0159: \n",
                "#  - cel\u00fd prostorn 0 - 100\n",
                "#  - unik\u00e1tn\u00ed hodnoty gen v datasetu df\n",
                "#  - unik\u00e1tn\u00ed hodnoty gen a hodnoty gen - delta v df\n",
                "#  - ...\n",
                "X = np.linspace(0, 100, 101) ###\n",
                "\n",
                "# pro v\u0161echny b\u011bhy vytvo\u0159\u00edme nov\u00fd DataFrame se spr\u00e1vn\u00fdmi hodnotami fitness \n",
                "# pou\u017eijeme 1D interpolaci i s extrapolac\u00ed tak, \u017ee interpolujeme p\u0159edchoz\u00ed hodnotou\n",
                "alld = [] ###\n",
                "for r, d in df.groupby(\"run\"):\n",
                "    f = interp1d(d[\"gen\"], d[\"fit\"], kind=\"previous\", fill_value=\"extrapolate\")\n",
                "    df_loc = pd.DataFrame({\"gen\": X, \"fit\": f(X)})\n",
                "    df_loc[\"run\"] = r\n",
                "    alld.append(df_loc)\n",
                "df2 = pd.concat(alld) ###\n",
                "df2 ###"
            ]
        },
        {
            "cell_type": "markdown",
            "metadata": {},
            "source": [
                "Nyn\u00ed se pod\u00edv\u00e1me na to, jak cel\u00fd nov\u00fd dataset vypad\u00e1. V\u0161imneme si toho, jak jsou tvo\u0159eny schody a \u017ee funkce jsou nyn\u00ed definovan\u00e9 a\u017e do konce"
            ]
        },
        {
            "cell_type": "code",
            "execution_count": null,
            "metadata": {},
            "outputs": [],
            "source": [
                "# Vykreslen\u00ed \u010d\u00e1rov\u00e9ho grafu z df2 a p\u0159es n\u011bj vykreslen\u00fd scatterplot star\u00e9ho dataframe df\n",
                "ax = sns.lineplot(data=df2, x=\"gen\", y=\"fit\", hue=\"run\", legend=False)\n",
                "sns.scatterplot(data=df, x=\"gen\", y=\"fit\") # puvodni hodnoty"
            ]
        },
        {
            "cell_type": "markdown",
            "metadata": {},
            "source": [
                "## Vykreslen\u00ed konvergen\u010dn\u00ed k\u0159ivky\n",
                "Nyn\u00ed m\u016f\u017eeme vykreslit celou konvergen\u010dn\u00ed k\u0159ivku, nechat z n\u00ed spo\u010d\u00edtat pr\u016fm\u011br a confidence interval. Jsou samoz\u0159ejm\u011b mo\u017en\u00e9 dal\u0161\u00ed modifikace - jako nap\u0159. zobrazit medi\u00e1n."
            ]
        },
        {
            "cell_type": "code",
            "execution_count": null,
            "metadata": {},
            "outputs": [],
            "source": [
                "# Vykreslen\u00ed konvergen\u010dn\u00ed k\u0159ivky\n",
                "sns.lineplot(data=df2, x=\"gen\", y=\"fit\", legend=False)\n"
            ]
        },
        {
            "cell_type": "code",
            "execution_count": null,
            "metadata": {},
            "outputs": [],
            "source": [
                "###\n",
                "# Vykreslen\u00ed medi\u00e1n\u016f star\u00fdch dat a prokl\u00e1dan\u00fdch dat.\n",
                "ax = sns.lineplot(data=df2, x=\"gen\", y=\"fit\", legend=False, estimator=np.median, ci=None, label=\"Medi\u00e1n fitness s prolo\u017een\u00edm\")\n",
                "sns.lineplot(data=df, x=\"gen\", y=\"fit\", legend=False, ax=ax, estimator=np.median, ci=None, label=\"Medi\u00e1n fitness bez prolo\u017een\u00ed\")\n",
                "plt.legend()"
            ]
        },
        {
            "cell_type": "markdown",
            "metadata": {},
            "source": [
                "Hotovo!"
            ]
        }
    ],
    "metadata": {
        "kernelspec": {
            "display_name": "Python 3",
            "language": "python",
            "name": "python3"
        },
        "language_info": {
            "codemirror_mode": {
                "name": "ipython",
                "version": 3
            },
            "file_extension": ".py",
            "mimetype": "text/x-python",
            "name": "python",
            "nbconvert_exporter": "python",
            "pygments_lexer": "ipython3",
            "version": "3.8.5"
        }
    },
    "nbformat": 4,
    "nbformat_minor": 4
}