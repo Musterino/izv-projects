{
 "metadata": {
  "language_info": {
   "codemirror_mode": {
    "name": "ipython",
    "version": 3
   },
   "file_extension": ".py",
   "mimetype": "text/x-python",
   "name": "python",
   "nbconvert_exporter": "python",
   "pygments_lexer": "ipython3",
   "version": "3.8.6-final"
  },
  "orig_nbformat": 2,
  "kernelspec": {
   "name": "python3",
   "display_name": "Python 3",
   "language": "python"
  }
 },
 "nbformat": 4,
 "nbformat_minor": 2,
 "cells": [
  {
   "source": [
    "# Test hypotézy\n",
    "### Pokud viník nehody byl pod silným vlivem alkoholu, došlo častěji k těžkým zdravotním následkům."
   ],
   "cell_type": "markdown",
   "metadata": {}
  },
  {
   "cell_type": "code",
   "execution_count": null,
   "metadata": {},
   "outputs": [],
   "source": [
    "###\n",
    "import numpy as np\n",
    "import pandas as pd\n",
    "import scipy.stats as st\n",
    "%matplotlib inline"
   ]
  },
  {
   "source": [
    "Načteme data"
   ],
   "cell_type": "markdown",
   "metadata": {}
  },
  {
   "cell_type": "code",
   "execution_count": null,
   "metadata": {},
   "outputs": [],
   "source": [
    "df = pd.read_pickle(\"accidents.pkl.gz\")"
   ]
  },
  {
   "source": [
    "Vyloučíme nehody pod vlivem drog"
   ],
   "cell_type": "markdown",
   "metadata": {}
  },
  {
   "cell_type": "code",
   "execution_count": null,
   "metadata": {},
   "outputs": [],
   "source": [
    "df = df[df[\"p11\"] != 4]\n",
    "df = df[df[\"p11\"] != 5]"
   ]
  },
  {
   "source": [
    "Z celého DataFrame nás zajímá vlastně jenom viník nehody byl pod silným vlivem alkoholu (sloupec p11 >= 7) a také zda u nehody došlo k těžkým zdravotním následkům (úmrtí nebo těžké zranění, p13a + p13b > 0).\n",
    "\n",
    "Vytvoříme DataFrame s bool hodnotami hledaných vlastností nehod."
   ],
   "cell_type": "markdown",
   "metadata": {}
  },
  {
   "cell_type": "code",
   "execution_count": null,
   "metadata": {},
   "outputs": [],
   "source": [
    "df_bis = pd.DataFrame({\n",
    "    \"alcohol\": df[\"p11\"] >= 7,\n",
    "    \"consequences\": (df[\"p13a\"] + df[\"p13b\"]) > 0\n",
    "})\n",
    "df_bis"
   ]
  },
  {
   "source": [
    "Vytvoříme kontingenční tabulku pro všechny kombinace vstupů."
   ],
   "cell_type": "markdown",
   "metadata": {}
  },
  {
   "cell_type": "code",
   "execution_count": null,
   "metadata": {},
   "outputs": [],
   "source": [
    "ct = pd.crosstab(df_bis[\"alcohol\"], df_bis[\"consequences\"])\n",
    "ct"
   ]
  },
  {
   "source": [
    "Vypočteme *chí-kvadrát* test."
   ],
   "cell_type": "markdown",
   "metadata": {}
  },
  {
   "cell_type": "code",
   "execution_count": null,
   "metadata": {},
   "outputs": [],
   "source": [
    "st.chi2_contingency(ct)"
   ]
  },
  {
   "source": [
    "Z těchto hodnot nás zajímá p-hodnota: 2.0971505700338304e-123 s tím, že 2.0971505700338304e-123 < 0.05. Proto přijímáme nulovou hypotézu a zamítáme alternativní.\n",
    "\n",
    "Z toho tedy vychází závěr, že došlo častěji k těžkým zdravotním následkům, když byl viník pod silným vlivem alkoholu."
   ],
   "cell_type": "markdown",
   "metadata": {}
  }
 ]
}