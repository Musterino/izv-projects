{
    "cells": [
        {
            "cell_type": "markdown",
            "metadata": {
                "slideshow": {
                    "slide_type": "slide"
                }
            },
            "source": [
                "# Odhad z\u00e1vislosti mezi prom\u011bnn\u00fdmi pomoc\u00ed Pearsonova koeficientu a $\\chi^2$ testu\n",
                "\n",
                "Tyto metody kvantifikuj\u00ed vztah mezi dv\u011bma jevy. Datasety se dv\u011bma a v\u00edce prom\u011bnn\u00fdmi umo\u017e\u0148uj\u00ed studovat vzath mezi jednotliv\u00fdmi dvojicemi prom\u011bnn\u00fdch. N\u00e1s zaj\u00edm\u00e1 zejm\u00e9na jejich korelace \u010di nez\u00e1vislost."
            ]
        },
        {
            "cell_type": "markdown",
            "metadata": {},
            "source": [
                "## Uk\u00e1zkov\u00fd p\u0159\u00edklad\n",
                "V tomto p\u0159\u00edkladu budeme pracovat s v\u00fdsledky tenisov\u00e9ho turnaje *ATP* do roku 2012 pro tenistu Rogera Federera. Konkr\u00e9tn\u011b budeme sledovat korelaci mezi esy (speci\u00e1ln\u00ed druh pod\u00e1n\u00ed p\u0159i kter\u00e9m pod\u00e1vaj\u00edc\u00ed hr\u00e1\u010d zaznamen\u00e1 p\u0159\u00edm\u00fd bod, ani\u017e by se soupe\u0159 dotknul m\u00ed\u010de) a pom\u011brem vyhran\u00fdch bod\u016f."
            ]
        },
        {
            "cell_type": "markdown",
            "metadata": {
                "slideshow": {
                    "slide_type": "slide"
                }
            },
            "source": [
                "## Po\u017eadovan\u00e9 prerekvizity z p\u0159edn\u00e1\u0161ek\n",
                "### Teorie\n",
                " * Pearson\u016fv korela\u010dn\u00ed koeficient\n",
                " * Kontingen\u010dn\u00ed tabulka\n",
                " * Chi-kvadr\u00e1t test\n",
                " * Vektorov\u00e9 operace \n",
                " \n",
                "### Python\n",
                " * Vektorov\u00e9 operace (numpy)\n",
                " * Manipulace s daty dat (pandas)\n",
                " * Z\u00e1klady vizualizace dat (matplotlib)"
            ]
        },
        {
            "cell_type": "markdown",
            "metadata": {
                "slideshow": {
                    "slide_type": "slide"
                }
            },
            "source": [
                "Na za\u010d\u00e1tku nahrajeme pot\u0159ebn\u00e9 knihovny pro zpracov\u00e1n\u00ed dat `numpy`, `pandas`, `matplotlib` a zejm\u00e9na knihovnu pro statistickou anal\u00fdzu, kde jsou pot\u0159ebn\u00e9 metody implementovan\u00e9 `scipy.stats`."
            ]
        },
        {
            "cell_type": "code",
            "execution_count": null,
            "metadata": {},
            "outputs": [],
            "source": [
                "!wget https://raw.githubusercontent.com/ipython-books/cookbook-2nd-data/master/federer.csv \n",
                "%pip install numpy pandas scipy"
            ]
        },
        {
            "cell_type": "code",
            "execution_count": null,
            "metadata": {},
            "outputs": [],
            "source": [
                "###\n",
                "import numpy as np, pandas as pd\n",
                "import seaborn as sns\n",
                "import scipy.stats\n",
                "import matplotlib.pyplot as plt\n",
                "%matplotlib inline"
            ]
        },
        {
            "cell_type": "markdown",
            "metadata": {
                "slideshow": {
                    "slide_type": "slide"
                }
            },
            "source": [
                "St\u00e1hneme dataset (je mo\u017en\u00e9 pou\u017e\u00edt i p\u0159\u00edmo URL adresu `\"https://raw.githubusercontent.com/ipython-books/cookbook-2nd-data/master/federer.c\"`)"
            ]
        },
        {
            "cell_type": "code",
            "execution_count": null,
            "metadata": {},
            "outputs": [],
            "source": [
                "player = 'Roger Federer'\n",
                "df = pd.read_csv(\"federer.csv\",\n",
                "                 parse_dates=['start date'],\n",
                "                 dayfirst=True)\n",
                "df.head() #zobrazime prvnich 5 radku"
            ]
        },
        {
            "cell_type": "markdown",
            "metadata": {
                "slideshow": {
                    "slide_type": "slide"
                }
            },
            "source": [
                "Pod\u00edv\u00e1me se, co je v tabulce konkr\u00e9tn\u011b za sloupce"
            ]
        },
        {
            "cell_type": "code",
            "execution_count": null,
            "metadata": {},
            "outputs": [],
            "source": [
                "###\n",
                "pd.DataFrame(np.array(df.columns).reshape(7, 10))    "
            ]
        },
        {
            "cell_type": "markdown",
            "metadata": {
                "slideshow": {
                    "slide_type": "slide"
                }
            },
            "source": [
                "Ka\u017ed\u00fd \u0159\u00e1dek odpov\u00edd\u00e1 jednomu z\u00e1pasu, sloupce obsahuj\u00ed statistiku hr\u00e1\u010de a protihr\u00e1\u010de. "
            ]
        },
        {
            "cell_type": "code",
            "execution_count": null,
            "metadata": {},
            "outputs": [],
            "source": [
                "df.describe()\n",
                "df[\"tournament\"].describe()"
            ]
        },
        {
            "cell_type": "markdown",
            "metadata": {
                "slideshow": {
                    "slide_type": "slide"
                }
            },
            "source": [
                "Hr\u00e1\u010d 1 (`player1`) je v\u017edy sledovan\u00fd *Roger Federer*"
            ]
        },
        {
            "cell_type": "code",
            "execution_count": null,
            "metadata": {},
            "outputs": [],
            "source": [
                "print(f\"Hr\u00e1\u010d \u010d. 1 je:\")\n",
                "df['player1 name'].value_counts()"
            ]
        },
        {
            "cell_type": "markdown",
            "metadata": {
                "slideshow": {
                    "slide_type": "slide"
                }
            },
            "source": [
                "T\u00edm u\u017e v\u00edme v\u0161e pot\u0159ebn\u00e9 o datech, kter\u00e9 m\u00e1me k dispozici. V dal\u0161\u00edm kroku se pod\u00edv\u00e1me, v kolika procentech p\u0159\u00edpad\u016f *R.F.* z\u00edskal body v r\u00e1mci hry a v kolika procentech *esem*. M\u016f\u017eeme vykreslit z\u00e1vislost `points` a `aces`."
            ]
        },
        {
            "cell_type": "markdown",
            "metadata": {
                "slideshow": {
                    "slide_type": "slide"
                }
            },
            "source": [
                "Vytvo\u0159\u00edme si nov\u00fd `DataFrame` se sledovan\u00fdmi parametry. Tak\u00e9 odstran\u00edme \u0159\u00e1dky, kde chyb\u00ed n\u011bkter\u00e1 z hodnot (funkce `dropna`)."
            ]
        },
        {
            "cell_type": "code",
            "execution_count": null,
            "metadata": {},
            "outputs": [],
            "source": [
                "###\n",
                "df_bis = pd.DataFrame({\n",
                "          'points': df['player1 total points won'] / df['player1 total points total'], # pomer bodu ziskanych vyhrou\n",
                "          'aces': df['player1 aces'] / df['player1 total points total'], # pomer bodu ziskany esem\n",
                "          'total points': df['player1 total points total'],\n",
                "          'points per minute': df['player1 total points total'] / df['time']\n",
                "         }).dropna()\n",
                "\n",
                "df_bis"
            ]
        },
        {
            "cell_type": "markdown",
            "metadata": {
                "slideshow": {
                    "slide_type": "slide"
                }
            },
            "source": [
                "Nyn\u00ed m\u016f\u017eeme data zobrazit."
            ]
        },
        {
            "cell_type": "code",
            "execution_count": null,
            "metadata": {},
            "outputs": [],
            "source": [
                "fig, (ax1, ax2, ax3) = plt.subplots(1, 3, figsize=(12,4)) ###\n",
                "ax1.plot(df_bis.points, df_bis.aces, '.', alpha=0.5) #zminit alpha!\n",
                "ax2.hist(df_bis.points, bins=50)\n",
                "ax3.hist(df_bis.aces, bins=50)\n",
                "ax1.set(xlim=(0,1), xlabel='% vyhranych bodu v zapase', ylim=0, ylabel='% bodu ziskanych esem') ###\n",
                "ax2.set(xlim=(0,1), xlabel='% vyhranych bodu v zapase', ylabel=\"freq\") ###\n",
                "ax3.set(xlim=(0,1), Xlabel='% bodu ziskanych esem', ylabel=\"freq\") ###\n",
                "plt.tight_layout()\n",
                "plt.show()"
            ]
        },
        {
            "cell_type": "markdown",
            "metadata": {
                "slideshow": {
                    "slide_type": "fragment"
                }
            },
            "source": [
                "Pokud jsou dv\u011b prom\u011bnn\u00e9 nez\u00e1visl\u00e9, nem\u011bli bychom vid\u011bt \u017e\u00e1dn\u00fd trend v mra\u010dnu bod\u016f. "
            ]
        },
        {
            "cell_type": "markdown",
            "metadata": {
                "slideshow": {
                    "slide_type": "fragment"
                }
            },
            "source": [
                "Vizu\u00e1ln\u00ed inspekce je v\u0161ak pro slo\u017eit\u011bj\u0161\u00ed struktury \u010dasov\u011b velmi n\u00e1ro\u010dn\u00e1. Pro ur\u010den\u00ed m\u00edry z\u00e1vislosti rad\u011bji vyu\u017eijeme korela\u010dn\u00ed koeficient."
            ]
        },
        {
            "cell_type": "markdown",
            "metadata": {
                "slideshow": {
                    "slide_type": "slide"
                }
            },
            "source": [
                "Vypo\u010dteme **Pearson\u016fv korela\u010dn\u00ed koeficient** mezi pom\u011brem v\u00fdt\u011bzn\u00fdch bod\u016f a pom\u011brem bod\u016f z es.\n",
                "$$r_{xy} =\\frac{\\sum ^n _{i=1}(x_i - \\bar{x})(y_i - \\bar{y})}{\\sqrt{\\sum ^n _{i=1}(x_i - \\bar{x})^2} \\sqrt{\\sum ^n _{i=1}(y_i - \\bar{y})^2}}$$"
            ]
        },
        {
            "cell_type": "code",
            "execution_count": null,
            "metadata": {},
            "outputs": [],
            "source": [
                "X, Y = df_bis[\"points\"], df_bis[\"aces\"] ###\n",
                "x, y = X-X.mean(), Y-Y.mean()\n",
                "\n",
                "rxy = (x * y).sum()  / (np.sqrt((x * x).sum()) * np.sqrt((y * y).sum())) # manualni vypocet pres vektorove operace\n",
                "rxy"
            ]
        },
        {
            "cell_type": "markdown",
            "metadata": {
                "slideshow": {
                    "slide_type": "slide"
                }
            },
            "source": [
                "V\u00fdpo\u010det je mo\u017en\u00e9 \u0159e\u0161it p\u0159\u00edmo pomoc\u00ed `pandas.corr()` \u010di `scipy.stats.pearsonr()`"
            ]
        },
        {
            "cell_type": "code",
            "execution_count": null,
            "metadata": {},
            "outputs": [],
            "source": [
                "df_bis.corr() # provede kompletni korelacni analyzu mezi vsemi promennymi datasetu"
            ]
        },
        {
            "cell_type": "code",
            "execution_count": null,
            "metadata": {},
            "outputs": [],
            "source": [
                "scipy.stats.pearsonr(X, Y) # vraci pearson coef + p-value"
            ]
        },
        {
            "source": [
                "Hodnota 0.255 ukazuje na pozitivn\u00ed korelaci mezi zkouman\u00fdmi prom\u011bnn\u00fdmi, tzn. \u010d\u00edm v\u00edce hr\u00e1\u010d uhraje es, t\u00edm v\u00edce bod\u016f vyhraje (co\u017e se dalo o\u010dek\u00e1vat). D\u00e1 se \u0159\u00edct, \u017ee $pvalue \\le 0.05$, a proto je korelace v\u00fdznamn\u00e1."
            ],
            "cell_type": "markdown",
            "metadata": {}
        },
        {
            "cell_type": "markdown",
            "metadata": {
                "slideshow": {
                    "slide_type": "slide"
                }
            },
            "source": [
                "## $\\chi^2$ test\n",
                "Nyn\u00ed ur\u010d\u00edme, zda je korelace mezi prom\u011bnn\u00fdmi *statisticky v\u00fdznamn\u00e1* jin\u00fdm zp\u016fsobem. Vyu\u017eijeme **$\\chi^2$ ch\u00ed-kvadr\u00e1t testu** (chi-square test). Na za\u010d\u00e1tku mus\u00edme *binarizovat* prom\u011bnn\u00e9, tj. ur\u010dit, zda-li je z\u00edskan\u00e1 hodnota v\u011bt\u0161\u00ed ne\u017e je ve v\u0161ech turnaj\u00edch obvykl\u00e9 (medi\u00e1n)."
            ]
        },
        {
            "cell_type": "code",
            "execution_count": null,
            "metadata": {},
            "outputs": [],
            "source": [
                "# vytvorit sloupce results, kde je points > median\n",
                "df_bis['result'] = (df_bis['points'] >\n",
                "                    df_bis['points'].median())\n",
                "# a sloupec manyaces > median\n",
                "df_bis['manyaces'] = (df_bis['aces'] >\n",
                "                      df_bis['aces'].median())\n",
                "\n",
                "df_bis # podivame se na vytvorene plozky"
            ]
        },
        {
            "cell_type": "markdown",
            "metadata": {
                "slideshow": {
                    "slide_type": "slide"
                }
            },
            "source": [
                "Vytvo\u0159\u00edme si kontingen\u010dn\u00ed tabulku pro v\u0161echny \u010dty\u0159i kombinace vstup\u016f. \n",
                "M\u016f\u017eeme pou\u017e\u00edt vlastn\u00ed (pomalou) implementaci."
            ]
        },
        {
            "cell_type": "code",
            "execution_count": null,
            "metadata": {},
            "outputs": [],
            "source": [
                "###\n",
                "# manu\u00e1ln\u00ed tvorba kontingen\u010dn\u00ed tabulky ...\n",
                "import itertools\n",
                "for ex_res, ex_aces in itertools.product([False, True], repeat=2):\n",
                "    print(f\"results={ex_res}, manyaces={ex_aces}\", \n",
                "          df_bis[(df_bis[\"result\"] == ex_res) & (df_bis[\"manyaces\"] == ex_aces)][\"result\"].count())"
            ]
        },
        {
            "cell_type": "markdown",
            "metadata": {
                "slideshow": {
                    "slide_type": "slide"
                }
            },
            "source": [
                "Kontingen\u010dn\u00ed tabulka je v\u0161ak ji\u017e implementovan\u00e1 v knihovn\u011b `pandas` ve funkci `crosstab`."
            ]
        },
        {
            "cell_type": "code",
            "execution_count": null,
            "metadata": {},
            "outputs": [],
            "source": [
                "ct = pd.crosstab(df_bis['result'], df_bis['manyaces'])\n",
                "ct ###"
            ]
        },
        {
            "cell_type": "markdown",
            "metadata": {
                "slideshow": {
                    "slide_type": "slide"
                }
            },
            "source": [
                "Pracujeme s tabulku 2x2 pro kterou vypo\u010d\u00edt\u00e1me ji\u017e zmi\u0148ovan\u00fd ch\u00ed-kvadr\u00e1t test. Prvn\u011b mus\u00edme z\u00edskat \u010d\u00edslo $\\chi^2$, kter\u00e9 se spo\u010d\u00edt\u00e1 jako\n",
                "$$\\chi^2=\\sum_{\\forall i}\\frac{(O_i-E_i)^2}{E_i},$$\n",
                "\n",
                "kde $O_i$ je z\u00edskan\u00e1 hodnota, $E_i$ je o\u010dek\u00e1van\u00e1 hodnota: \n",
                "$$E_i=\\frac{\\sum_{r \\in row(i)}{O_r} \\cdot \\sum_{c \\in col(i)}{O_c}}{\\sum_{\\forall j}{O_j}}$$\n",
                "\n",
                "Po\u010d\u00edt\u00e1me se stupn\u011bm volnosti $DF=(r-1)*(c-1)=1$, a korekc\u00ed 0.5 od absolutn\u00ed hodnoty rozd\u00edlu $|O_i - E_i|$."
            ]
        },
        {
            "cell_type": "code",
            "execution_count": null,
            "metadata": {},
            "outputs": [],
            "source": [
                "###\n",
                "values = ct.values\n",
                "sum_all = float(values.sum()) # suma vsech hodnot\n",
                "sum_c0, sum_c1 = ct[:][0].sum(), ct[:][1].sum() # soucty sloupcu\n",
                "sum_r0, sum_r1 = ct[0][:].sum(), ct[1][:].sum() # soucty radku\n",
                "\n",
                "E = np.array([[(sum_r0 * sum_c0), (sum_r0 * sum_c1 )],\n",
                "     [(sum_r1 * sum_c0), (sum_r1 * sum_c1)]]) \n",
                "\n",
                "E = E / sum_all\n",
                "\n",
                "xi2 = np.sum(((np.abs(values - E) - 0.5 )**2) / E)\n",
                "display(f\"xi2={xi2}\")"
            ]
        },
        {
            "cell_type": "markdown",
            "metadata": {
                "slideshow": {
                    "slide_type": "slide"
                }
            },
            "source": [
                "Nyn\u00ed pot\u0159ebuje spo\u010d\u00edtat pravd\u011bpodobnost $P(\\chi^2 > 27.81)$. Tu lze ur\u010dit na z\u00e1klad\u011b znalosti funkce hustoty rozd\u011blen\u00ed pravd\u011bpodobnosti, kter\u00e1 je definov\u00e1na n\u00e1sledovn\u011b\n",
                "$$f(x, DF)=\\frac{1}{2^{DF/2-1} \\Gamma \\left( DF/2 \\right)} x^{DF-1} e^{ -x^2/2}.$$\n",
                "\n",
                "Funkce je implementovan\u00e1 v `scipy.stats.chi2` a hodnotu *p-value* t\u00edmp\u00e1dem lze pro dan\u00e9 DF vypo\u010d\u00edtat jako:"
            ]
        },
        {
            "cell_type": "code",
            "execution_count": null,
            "metadata": {},
            "outputs": [],
            "source": [
                "display(f'P(X > 27.81)={1 - st.chi2.cdf(xi2, df=1)}')"
            ]
        },
        {
            "cell_type": "markdown",
            "metadata": {
                "slideshow": {
                    "slide_type": "slide"
                }
            },
            "source": [
                "V\u00fdpo\u010det m\u016f\u017eeme cel\u00fd nechat na knihovn\u00edch funkc\u00edch v scipy, konkr\u00e9tn\u011b funkci [scipy.stats.chi2_contingency()](https://docs.scipy.org/doc/scipy/reference/generated/scipy.stats.chi2_contingency.html). Tato funkce spo\u010d\u00edt\u00e1 *ch\u00ed-kvadr\u00e1t*  statistiku a *p-hodnotu* pro test nez\u00e1vislosti v kontingen\u010dn\u00ed tabulce. Tato funkce vrac\u00ed v\u00edce hodnot (xi2, p-value, DF, E), n\u00e1s zaj\u00edm\u00e1 druh\u00e1 hodnota (p-hodnota)."
            ]
        },
        {
            "cell_type": "code",
            "execution_count": null,
            "metadata": {},
            "outputs": [],
            "source": [
                "st.chi2_contingency(ct)"
            ]
        },
        {
            "cell_type": "markdown",
            "metadata": {},
            "source": [
                "Hodnota $1.33\\cdot10^{-7}$ je mnohem men\u0161\u00ed ne\u017e $0.05$. Proto zam\u00edtneme nulovou hypot\u00e9zu a m\u016f\u017eeme prohl\u00e1sit, \u017ee je zde statisticky v\u00fdznamn\u00e1 korelace mezi pom\u011brem es v\u016f\u010di celkov\u00e9mu po\u010dtu bod\u016f a pom\u011brem vyhran\u00fdch bod\u016f v\u016f\u010di celkov\u00e9mu po\u010dtu bod\u016f v z\u00e1pase."
            ]
        },
        {
            "cell_type": "markdown",
            "metadata": {},
            "source": [
                "# Z\u00e1v\u011br \n",
                "\n",
                "**Pozor:** [Korelace neimplikuje kauzalitu](https://cs.wikipedia.org/wiki/Korelace_neimplikuje_kauzalitu). Pokud n\u011bjak\u00e9 dv\u011b prom\u011bnn\u00e9 spolu koreluj\u00ed, nelze z toho je\u0161t\u011b vyvozovat, \u017ee jedna je p\u0159\u00ed\u010dinou a druh\u00e1 kauz\u00e1ln\u00edm n\u00e1sledkem.\n",
                "\n",
                "Cvi\u010den\u00ed inspirov\u00e1no [IPython Books](https://ipython-books.github.io/74-estimating-the-correlation-between-two-variables-with-a-contingency-table-and-a-chi-squared-test/)"
            ]
        },
        {
            "cell_type": "code",
            "execution_count": null,
            "metadata": {},
            "outputs": [],
            "source": []
        }
    ],
    "metadata": {
        "celltoolbar": "Slideshow",
        "kernelspec": {
            "name": "python_defaultSpec_1604638936101",
            "display_name": "Python 3.8.5 32-bit",
            "metadata": {
                "interpreter": {
                    "hash": "11d99eda45b83513ac0705ec9d98b93eaf13a32200a84e058cdf797e0fe60917"
                }
            }
        },
        "language_info": {
            "codemirror_mode": {
                "name": "ipython",
                "version": 3
            },
            "file_extension": ".py",
            "mimetype": "text/x-python",
            "name": "python",
            "nbconvert_exporter": "python",
            "pygments_lexer": "ipython3",
            "version": "3.8.6-final"
        },
        "rise": {
            "autolaunch": true,
            "header": "<img src=\"data:image/png;base64,iVBORw0KGgoAAAANSUhEUgAAAC8AAAAvCAIAAAD8RQT7AAAAAXNSR0IArs4c6QAAAARnQU1BAACxjwv8YQUAAAAJcEhZcwAADsMAAA7DAcdvqGQAAAGdSURBVFhH7Zi9SwMxGIff1UUQwY+2VNv60dWlKCgiCtp26iDWbkKtiiJoQR0cVASlOOsk4uQi4mwHFxX/HxERtD9z6SE2Jm2u3NmCeXnI9Cbvc7kLSY5Ag01D1NgoMTZqlDYDoH5tWLLQvT6q2UT06OMI3etDbtODoRTuHlB8QvGxBvfPWD8E9boxQ3IbP2ay0I+LG1DQO5sAphbsSjpxdvWPbPyI5+xKOnF+DWoFdYK6nMBWQLSyrtwmjMA4Vvf12MXKHnYK2DrRZZsTmgSFKuvKbZhyGNShRwtSa/YkOYrkMsgn1JXaOMKP9KZdwFFMZ62+FUMZGzv+9E29vePyFlsFbBwhfywhOMG/zp9DeWTz8orkEl/G3XwCpOiucEfIbA5OQe18exeSq+OFTamE0Qx/eiGzJl7YfHwiNmttL2JmTTyyGZ4zNhbGRo2xUWNs1BgbNcZGjbFR02w283nb4ztGGmiT+W2TbpRNBL4xJHKIL1okeNsWq+sXkws27NzPTv/lawC7rZVbpiLcB3RwwcZFjI0aY6OmqWwo+gXH0fQdguzDGgAAAABJRU5ErkJggg==\" style=\"position: fixed;right: 10px;top: 10px;\">"
        }
    },
    "nbformat": 4,
    "nbformat_minor": 4
}