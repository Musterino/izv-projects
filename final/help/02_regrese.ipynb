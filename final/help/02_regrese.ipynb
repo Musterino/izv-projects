{
    "cells": [
        {
            "cell_type": "markdown",
            "metadata": {},
            "source": [
                "# Cyklist\u00e9 v Praze\n",
                "V t\u00e9to \u00faloze se budeme sna\u017eit vytvo\u0159it model toho, jak jezd\u00ed cyklist\u00e9 kolem jedn\u00e9 kamery um\u00edst\u011bn\u00e9 v [Praze v Bohnic\u00edch](https://mapy.cz/turisticka?x=14.3983934&y=50.1427415&z=16&source=coor&id=14.39908%2C50.14313).\n",
                "\n",
                "Tato kamera poskytuje data, kdy do\u0161lo k pr\u016fjezdu cyklistou\n",
                "```python\n",
                "from requests import request\n",
                "import pandas as pd\n",
                "headers = {\n",
                "  'Content-Type': 'application/json; charset=utf-8',\n",
                "  'x-access-token': '?????'\n",
                "}\n",
                "\n",
                "dfs = []\n",
                "ranges = list(zip(\n",
                "        list(pd.date_range(\"2019-01-01\", \"2020-12-31\", freq=\"MS\")),\n",
                "        list(pd.date_range(\"2019-01-01\", \"2020-12-31\", freq=\"M\"))\n",
                "))\n",
                "\n",
                "\n",
                "for s, e in ranges: # p\u0159\u00edstup max 10 000 polo\u017eek, rozd\u011bl\u00edme do m\u011bs\u00edc\u016f\n",
                "    r = request(\"get\", 'https://api.golemio.cz/v2/bicyclecounters/temperatures?id=camea-BC_ZA-KLBO&from={}Z&to={}'.format(s.isoformat(), e.isoformat()), headers=headers)\n",
                "    print(r.text)\n",
                "    dfs.append(pd.DataFrame(r.json()))\n",
                "\n",
                "df_cam = pd.concat(dfs)\n",
                "\n",
                "df_c = df_cam.set_index(pd.to_datetime(df_cam[\"measured_from\"])).resample(\"d\").agg({\"value\":\"sum\"}).tz_convert(None)\n",
                "df_c.plot()\n",
                "df_c.to_pickle(\"prg_cycl.pkl.gz\")\n",
                "```\n",
                "\n",
                "Zdroj dat:\n",
                "\n",
                "https://golemioapi.docs.apiary.io/#reference/traffic/bicyclecounters/get-bicyclecounters-detections\n",
                "\n",
                "__Probl\u00e9my__\n",
                "* data jsou zn\u00e1m\u00e1 a\u017e od poloviny roku 2019\n",
                "* CHMI poskytuje historick\u00e1 data po\u010das\u00ed ro\u010dn\u011b :("
            ]
        },
        {
            "cell_type": "code",
            "execution_count": null,
            "metadata": {},
            "outputs": [],
            "source": [
                "###\n",
                "import pandas as pd\n",
                "import seaborn as sns\n",
                "from sklearn.linear_model import LinearRegression\n",
                "import matplotlib.pyplot as plt\n",
                "import numpy as np\n",
                "import seaborn as sns"
            ]
        },
        {
            "cell_type": "markdown",
            "metadata": {},
            "source": [
                "## Na\u010dten\u00ed a vy\u010di\u0161t\u011bn\u00ed prim\u00e1rn\u00edch dat"
            ]
        },
        {
            "cell_type": "code",
            "execution_count": null,
            "metadata": {},
            "outputs": [],
            "source": [
                "###\n",
                "# Na\u010dten\u00ed dat\n",
                "df = pd.read_pickle(\"prg_cycl.pkl.gz\")\n",
                "df"
            ]
        },
        {
            "cell_type": "code",
            "execution_count": null,
            "metadata": {},
            "outputs": [],
            "source": [
                "# a jejich zobrazen\u00ed\n",
                "df.plot() ###"
            ]
        },
        {
            "cell_type": "markdown",
            "metadata": {},
            "source": [
                "Nyn\u00ed mus\u00edme odstranit hodnoty, kter\u00e9 jsou mimo rozsah (v na\u0161em p\u0159\u00edpad\u011b pod hodnotu 500), proto\u017ee se jedn\u00e1 z\u0159ejm\u011b o chybu kamery"
            ]
        },
        {
            "cell_type": "code",
            "execution_count": null,
            "metadata": {},
            "outputs": [],
            "source": [
                "dfd = df[df[\"value\"] > 500].asfreq(\"d\", method=\"ffill\")\n",
                "dfd.plot()\n"
            ]
        },
        {
            "cell_type": "markdown",
            "metadata": {},
            "source": [
                "## Na\u010dten\u00ed dat - nez\u00e1visl\u00fdch prom\u011bnn\u00fdch\n",
                "Na\u010dteme data z CHMU - pro stanici Praha-Ruzyn\u011b. Pou\u017e\u00edv\u00e1me techniky jako v p\u0159edn\u00e1\u0161ce _Pandas_."
            ]
        },
        {
            "cell_type": "code",
            "execution_count": null,
            "metadata": {},
            "outputs": [],
            "source": [
                "###\n",
                "meteo = pd.read_excel(\"P1PRUZ01.xls\", header=3, sheet_name=[\n",
                "    \"teplota pr\u016fm\u011brn\u00e1\", \"\u00fahrn sr\u00e1\u017eek\", \"slune\u010dn\u00ed svit\", \"celkov\u00e1 v\u00fd\u0161ka sn\u011bhu\"\n",
                "    ])\n",
                "meteo"
            ]
        },
        {
            "cell_type": "code",
            "execution_count": null,
            "metadata": {},
            "outputs": [],
            "source": [
                "###\n",
                "# P\u0159evod na Pandas DataFrame\n",
                "# pro ka\u017ed\u00fd sheet provedeme:\n",
                "# - melt\n",
                "# - vyparsujeme datum\n",
                "# - spoj\u00edme data\n",
                "\n",
                "df_meteo = None\n",
                "for k in meteo:\n",
                "\n",
                "    df_l = meteo[k].melt([\"rok\", \"m\u011bs\u00edc\"], var_name=\"den\", value_name=k).dropna()\n",
                "    df_l[\"den\"] = df_l[\"den\"].str.replace(\".\", \"\")\n",
                "\n",
                "    df_l[\"date\"] = pd.to_datetime(df_l[\"rok\"].astype(str) + \"-\" + df_l[\"m\u011bs\u00edc\"].astype(str) + \"-\" + df_l[\"den\"].str.replace(\".\", \"\"))\n",
                "\n",
                "    df_l = df_l[[\"date\", k]].set_index(\"date\")\n",
                "\n",
                "    if df_meteo is None:\n",
                "        df_meteo = df_l\n",
                "    else:\n",
                "        df_meteo = df_meteo.merge(df_l, left_index=True, right_index=True)\n",
                "\n",
                "\n",
                "# Na z\u00e1v\u011br vybereme jen rok 2018 a 2019\n",
                "df_meteo = df_meteo.loc[\"2018\":\"2019\"].sort_index()\n",
                "# a nep\u0159\u00edjemn\u00fdm trikem posuneme rok 2018 na 2020 a t\u00edm dopln\u00edme chyb\u011bj\u00edc\u00ed data\n",
                "# opravdu nep\u011bkn\u00e1 operace -> lep\u0161\u00ed by bylo z\u00edskat prav\u00e1 data za rok 2020\n",
                "df_meteo = pd.concat([df_meteo.loc[\"2019\"], df_meteo.loc[\"2018\"].shift(2*365, \"d\")])\n",
                "df_meteo"
            ]
        },
        {
            "cell_type": "markdown",
            "metadata": {},
            "source": [
                "## Spojen\u00ed dat do jednoho dataframe"
            ]
        },
        {
            "cell_type": "code",
            "execution_count": null,
            "metadata": {},
            "outputs": [],
            "source": [
                "###\n",
                "# Prvn\u011b p\u0159id\u00e1me informaci o po\u010das\u00ed\n",
                "dfd = dfd[[\"value\"]].merge(df_meteo, left_index=True, right_index=True)\n",
                "dfd"
            ]
        },
        {
            "cell_type": "code",
            "execution_count": null,
            "metadata": {},
            "outputs": [],
            "source": [
                "###\n",
                "# P\u0159id\u00e1me informaci o dnu v t\u00fddnu\n",
                "\n",
                "dfd[\"dow\"] = dfd.index.dayofweek\n",
                "\n",
                "days = ['Mon', 'Tue', 'Wed', 'Thu', 'Fri', 'Sat', 'Sun']\n",
                "for i in range(7):\n",
                "    dfd[days[i]] = (dfd[\"dow\"] == i).astype(float)\n",
                "dfd"
            ]
        },
        {
            "cell_type": "markdown",
            "metadata": {},
            "source": [
                "## Hled\u00e1n\u00ed regresn\u00edho modelu\n",
                "Prvn\u00ed krok je zjistit, zda neexistuje korelace mezi na\u0161imi mo\u017en\u00fdmi nez\u00e1visl\u00fdmi prom\u011bnn\u00fdmi"
            ]
        },
        {
            "cell_type": "code",
            "execution_count": null,
            "metadata": {},
            "outputs": [],
            "source": [
                "sns.pairplot(dfd[[\"teplota pr\u016fm\u011brn\u00e1\", \"\u00fahrn sr\u00e1\u017eek\", \"slune\u010dn\u00ed svit\", \"celkov\u00e1 v\u00fd\u0161ka sn\u011bhu\"]]) ###"
            ]
        },
        {
            "source": [
                "Vid\u00edme, \u017ee data nekoreluj\u00ed, tak\u017ee m\u016f\u017eeme vytvo\u0159it regresn\u00ed model. M\u016f\u017eeme volit n\u00e1sleduj\u00edc\u00ed nez\u00e1visl\u00e9 prom\u011bnn\u00e9\n",
                "```python\n",
                "ks = []\n",
                "ks += ['Mon', 'Tue', 'Wed', 'Thu', 'Fri', 'Sat', 'Sun'] \n",
                "ks += [\"teplota pr\u016fm\u011brn\u00e1\"]\n",
                "ks += [\"\u00fahrn sr\u00e1\u017eek\"]\n",
                "ks += [\"slune\u010dn\u00ed svit\"]\n",
                "ks += [\"celkov\u00e1 v\u00fd\u0161ka sn\u011bhu\"]\n",
                "```"
            ],
            "cell_type": "markdown",
            "metadata": {}
        },
        {
            "cell_type": "code",
            "execution_count": null,
            "metadata": {},
            "outputs": [],
            "source": [
                "# vytvo\u0159\u00edme pole p\u0159\u00edznak\u016f\n",
                "ks = []\n",
                "ks += ['Mon', 'Tue', 'Wed', 'Thu', 'Fri', 'Sat', 'Sun'] \n",
                "ks += [\"teplota pr\u016fm\u011brn\u00e1\"]\n",
                "ks += [\"\u00fahrn sr\u00e1\u017eek\"]\n",
                "ks += [\"slune\u010dn\u00ed svit\"]\n",
                "ks += [\"celkov\u00e1 v\u00fd\u0161ka sn\u011bhu\"]\n",
                "\n",
                "# vytvo\u0159\u00edme pomocn\u00fd dataframe pouze s rokem 2019\n",
                "df_tmp = dfd.loc[\"2019\"].copy() # todo pridat i rok 2020\n",
                "\n",
                "# Vytvo\u0159\u00edme vektory X a y\n",
                "X = df_tmp[ks].astype(\"f\")\n",
                "y = df_tmp[\"value\"]\n",
                "\n",
                "# Spust\u00edme tr\u00e9nov\u00e1n\u00ed\n",
                "model = LinearRegression(fit_intercept=True, normalize=True)\n",
                "model.fit(X, y)\n",
                "\n",
                "# Vyp\u00ed\u0161me kvalitu a koeficienty\n",
                "print(model.score(X, y))\n",
                "\n",
                "# Ur\u010d\u00edme predikovanou hodnotu\n",
                "df_tmp[\"predicted\"] = model.predict(X)\n",
                "\n",
                "\n",
                "ax = df_tmp.plot(y=\"value\", figsize=(12, 8))\n",
                "df_tmp.plot(y=\"predicted\", ax=ax)"
            ]
        },
        {
            "source": [
                "Pod\u00edv\u00e1me se na to, jak jednotliv\u00e9 nez\u00e1visl\u00e9 prom\u011bnn\u00e9 ovliv\u0148uj\u00ed v\u00fdstup. Analyzujeme vektor $w$, kter\u00fd je ulo\u017een\u00fd v `model.coef_`."
            ],
            "cell_type": "markdown",
            "metadata": {}
        },
        {
            "cell_type": "code",
            "execution_count": null,
            "metadata": {},
            "outputs": [],
            "source": [
                "print(list(zip(ks, model.coef_)))"
            ]
        },
        {
            "cell_type": "code",
            "execution_count": null,
            "metadata": {},
            "outputs": [],
            "source": [
                "###\n",
                "# zkus\u00edme to aplikovat na data z roku 2020 (pozor, ty vlastn\u011b nem\u00e1me, tak\u017ee z roku 2018)\n",
                "# proto je chybovost je\u0161t\u011b v\u011bt\u0161\u00ed\n",
                "df_tmp = dfd.loc[\"2020\"].copy()\n",
                "X = df_tmp[ks]\n",
                "\n",
                "df_tmp[\"predicted\"] = model.predict(X)\n",
                "\n",
                "df_tmp.plot(y=[\"predicted\", \"value\"])"
            ]
        },
        {
            "cell_type": "markdown",
            "metadata": {},
            "source": [
                "## Z\u00e1v\u011br\n",
                "* line\u00e1rn\u00ed regrese n\u00e1m vytv\u00e1\u0159\u00ed model, na z\u00e1klad\u011b kter\u00e9ho m\u016f\u017eeme pot\u00e9 p\u0159edv\u00eddat \"budoucnost\"\n",
                "* model m\u016f\u017ee fungovat pouze na datech (rozsaz\u00edch), na jak\u00fdch natr\u00e9nov\u00e1n\n",
                "* regrese nen\u00ed pouze prokl\u00e1d\u00e1n\u00ed funkc\u00ed pro lep\u0161\u00ed vizualizaci"
            ]
        },
        {
            "cell_type": "code",
            "execution_count": null,
            "metadata": {},
            "outputs": [],
            "source": []
        }
    ],
    "metadata": {
        "kernelspec": {
            "display_name": "Python 3",
            "language": "python",
            "name": "python3"
        },
        "language_info": {
            "codemirror_mode": {
                "name": "ipython",
                "version": 3
            },
            "file_extension": ".py",
            "mimetype": "text/x-python",
            "name": "python",
            "nbconvert_exporter": "python",
            "pygments_lexer": "ipython3",
            "version": "3.8.6-final"
        }
    },
    "nbformat": 4,
    "nbformat_minor": 4
}